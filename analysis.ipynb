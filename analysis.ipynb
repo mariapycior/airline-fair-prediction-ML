{
 "cells": [
  {
   "cell_type": "code",
   "execution_count": 3,
   "id": "6c84eaf1-6fe6-4190-8b33-9859c340c6ae",
   "metadata": {},
   "outputs": [],
   "source": [
    "# !pip install kagglehub"
   ]
  },
  {
   "cell_type": "markdown",
   "id": "725b592e-1080-42a3-9290-abe75b8a1021",
   "metadata": {},
   "source": [
    "## Download dataset"
   ]
  },
  {
   "cell_type": "code",
   "execution_count": 7,
   "id": "1a581b31-425f-460e-8ac6-9b01158fa2f5",
   "metadata": {},
   "outputs": [
    {
     "name": "stdout",
     "output_type": "stream",
     "text": [
      "Downloading from https://www.kaggle.com/api/v1/datasets/download/orvile/airline-market-fare-prediction-data?dataset_version_number=1...\n"
     ]
    },
    {
     "name": "stderr",
     "output_type": "stream",
     "text": [
      "100%|████████████████████████████████████████████████████████████████████████████████████████████████████████████████████████████████████████████| 5.97M/5.97M [00:01<00:00, 4.59MB/s]"
     ]
    },
    {
     "name": "stdout",
     "output_type": "stream",
     "text": [
      "Extracting files...\n"
     ]
    },
    {
     "name": "stderr",
     "output_type": "stream",
     "text": [
      "\n"
     ]
    },
    {
     "name": "stdout",
     "output_type": "stream",
     "text": [
      "Path to dataset files: /Users/stefan.horodenski/.cache/kagglehub/datasets/orvile/airline-market-fare-prediction-data/versions/1\n"
     ]
    }
   ],
   "source": [
    "import kagglehub\n",
    "\n",
    "# Download latest version\n",
    "path = kagglehub.dataset_download(\"orvile/airline-market-fare-prediction-data\")\n",
    "\n",
    "print(\"Path to dataset files:\", path)"
   ]
  },
  {
   "cell_type": "markdown",
   "id": "acb60172-1168-445e-a818-e7d9bad11acf",
   "metadata": {},
   "source": [
    "## Import libraries"
   ]
  },
  {
   "cell_type": "code",
   "execution_count": 17,
   "id": "9aee7f13-2df7-4192-9b6e-1073cb250382",
   "metadata": {},
   "outputs": [],
   "source": [
    "import numpy as np\n",
    "import matplotlib.pyplot as plt\n",
    "import pandas as pd\n",
    "import pprint as pp"
   ]
  },
  {
   "cell_type": "markdown",
   "id": "c7725177-af2c-4692-a9fb-b3677426ce67",
   "metadata": {},
   "source": [
    "## Read data"
   ]
  },
  {
   "cell_type": "code",
   "execution_count": 14,
   "id": "bab9708a-8af6-4b6c-bf1b-5b0a5ac8279c",
   "metadata": {},
   "outputs": [
    {
     "data": {
      "text/html": [
       "<div>\n",
       "<style scoped>\n",
       "    .dataframe tbody tr th:only-of-type {\n",
       "        vertical-align: middle;\n",
       "    }\n",
       "\n",
       "    .dataframe tbody tr th {\n",
       "        vertical-align: top;\n",
       "    }\n",
       "\n",
       "    .dataframe thead th {\n",
       "        text-align: right;\n",
       "    }\n",
       "</style>\n",
       "<table border=\"1\" class=\"dataframe\">\n",
       "  <thead>\n",
       "    <tr style=\"text-align: right;\">\n",
       "      <th></th>\n",
       "      <th>MktCoupons</th>\n",
       "      <th>OriginCityMarketID</th>\n",
       "      <th>DestCityMarketID</th>\n",
       "      <th>OriginAirportID</th>\n",
       "      <th>DestAirportID</th>\n",
       "      <th>Carrier</th>\n",
       "      <th>NonStopMiles</th>\n",
       "      <th>RoundTrip</th>\n",
       "      <th>ODPairID</th>\n",
       "      <th>Pax</th>\n",
       "      <th>...</th>\n",
       "      <th>Circuity</th>\n",
       "      <th>Slot</th>\n",
       "      <th>Non_Stop</th>\n",
       "      <th>MktMilesFlown</th>\n",
       "      <th>OriginCityMarketID_freq</th>\n",
       "      <th>DestCityMarketID_freq</th>\n",
       "      <th>OriginAirportID_freq</th>\n",
       "      <th>DestAirportID_freq</th>\n",
       "      <th>Carrier_freq</th>\n",
       "      <th>ODPairID_freq</th>\n",
       "    </tr>\n",
       "  </thead>\n",
       "  <tbody>\n",
       "    <tr>\n",
       "      <th>0</th>\n",
       "      <td>2</td>\n",
       "      <td>178</td>\n",
       "      <td>152</td>\n",
       "      <td>170</td>\n",
       "      <td>255</td>\n",
       "      <td>6</td>\n",
       "      <td>1807.0</td>\n",
       "      <td>1.0</td>\n",
       "      <td>4035</td>\n",
       "      <td>136.0</td>\n",
       "      <td>...</td>\n",
       "      <td>1.367460</td>\n",
       "      <td>0</td>\n",
       "      <td>0.0</td>\n",
       "      <td>1992.449761</td>\n",
       "      <td>0.004138</td>\n",
       "      <td>0.039783</td>\n",
       "      <td>0.004138</td>\n",
       "      <td>0.022049</td>\n",
       "      <td>0.116826</td>\n",
       "      <td>0.000132</td>\n",
       "    </tr>\n",
       "    <tr>\n",
       "      <th>1</th>\n",
       "      <td>2</td>\n",
       "      <td>178</td>\n",
       "      <td>152</td>\n",
       "      <td>170</td>\n",
       "      <td>194</td>\n",
       "      <td>20</td>\n",
       "      <td>1798.0</td>\n",
       "      <td>1.0</td>\n",
       "      <td>4035</td>\n",
       "      <td>136.0</td>\n",
       "      <td>...</td>\n",
       "      <td>1.051724</td>\n",
       "      <td>0</td>\n",
       "      <td>0.0</td>\n",
       "      <td>1992.449761</td>\n",
       "      <td>0.004138</td>\n",
       "      <td>0.039783</td>\n",
       "      <td>0.004138</td>\n",
       "      <td>0.008368</td>\n",
       "      <td>0.307651</td>\n",
       "      <td>0.000132</td>\n",
       "    </tr>\n",
       "    <tr>\n",
       "      <th>2</th>\n",
       "      <td>2</td>\n",
       "      <td>178</td>\n",
       "      <td>152</td>\n",
       "      <td>170</td>\n",
       "      <td>260</td>\n",
       "      <td>6</td>\n",
       "      <td>1784.0</td>\n",
       "      <td>0.0</td>\n",
       "      <td>4035</td>\n",
       "      <td>136.0</td>\n",
       "      <td>...</td>\n",
       "      <td>1.034753</td>\n",
       "      <td>0</td>\n",
       "      <td>0.0</td>\n",
       "      <td>1992.449761</td>\n",
       "      <td>0.004138</td>\n",
       "      <td>0.039783</td>\n",
       "      <td>0.004138</td>\n",
       "      <td>0.009366</td>\n",
       "      <td>0.116826</td>\n",
       "      <td>0.000132</td>\n",
       "    </tr>\n",
       "    <tr>\n",
       "      <th>3</th>\n",
       "      <td>2</td>\n",
       "      <td>178</td>\n",
       "      <td>152</td>\n",
       "      <td>170</td>\n",
       "      <td>255</td>\n",
       "      <td>6</td>\n",
       "      <td>1807.0</td>\n",
       "      <td>1.0</td>\n",
       "      <td>4035</td>\n",
       "      <td>136.0</td>\n",
       "      <td>...</td>\n",
       "      <td>1.029884</td>\n",
       "      <td>0</td>\n",
       "      <td>0.0</td>\n",
       "      <td>1992.449761</td>\n",
       "      <td>0.004138</td>\n",
       "      <td>0.039783</td>\n",
       "      <td>0.004138</td>\n",
       "      <td>0.022049</td>\n",
       "      <td>0.116826</td>\n",
       "      <td>0.000132</td>\n",
       "    </tr>\n",
       "    <tr>\n",
       "      <th>4</th>\n",
       "      <td>2</td>\n",
       "      <td>178</td>\n",
       "      <td>152</td>\n",
       "      <td>170</td>\n",
       "      <td>194</td>\n",
       "      <td>20</td>\n",
       "      <td>1798.0</td>\n",
       "      <td>1.0</td>\n",
       "      <td>4035</td>\n",
       "      <td>136.0</td>\n",
       "      <td>...</td>\n",
       "      <td>1.062291</td>\n",
       "      <td>0</td>\n",
       "      <td>0.0</td>\n",
       "      <td>1992.449761</td>\n",
       "      <td>0.004138</td>\n",
       "      <td>0.039783</td>\n",
       "      <td>0.004138</td>\n",
       "      <td>0.008368</td>\n",
       "      <td>0.307651</td>\n",
       "      <td>0.000132</td>\n",
       "    </tr>\n",
       "  </tbody>\n",
       "</table>\n",
       "<p>5 rows × 26 columns</p>\n",
       "</div>"
      ],
      "text/plain": [
       "   MktCoupons  OriginCityMarketID  DestCityMarketID  OriginAirportID  \\\n",
       "0           2                 178               152              170   \n",
       "1           2                 178               152              170   \n",
       "2           2                 178               152              170   \n",
       "3           2                 178               152              170   \n",
       "4           2                 178               152              170   \n",
       "\n",
       "   DestAirportID  Carrier  NonStopMiles  RoundTrip  ODPairID    Pax  ...  \\\n",
       "0            255        6        1807.0        1.0      4035  136.0  ...   \n",
       "1            194       20        1798.0        1.0      4035  136.0  ...   \n",
       "2            260        6        1784.0        0.0      4035  136.0  ...   \n",
       "3            255        6        1807.0        1.0      4035  136.0  ...   \n",
       "4            194       20        1798.0        1.0      4035  136.0  ...   \n",
       "\n",
       "   Circuity  Slot  Non_Stop  MktMilesFlown  OriginCityMarketID_freq  \\\n",
       "0  1.367460     0       0.0    1992.449761                 0.004138   \n",
       "1  1.051724     0       0.0    1992.449761                 0.004138   \n",
       "2  1.034753     0       0.0    1992.449761                 0.004138   \n",
       "3  1.029884     0       0.0    1992.449761                 0.004138   \n",
       "4  1.062291     0       0.0    1992.449761                 0.004138   \n",
       "\n",
       "   DestCityMarketID_freq  OriginAirportID_freq  DestAirportID_freq  \\\n",
       "0               0.039783              0.004138            0.022049   \n",
       "1               0.039783              0.004138            0.008368   \n",
       "2               0.039783              0.004138            0.009366   \n",
       "3               0.039783              0.004138            0.022049   \n",
       "4               0.039783              0.004138            0.008368   \n",
       "\n",
       "   Carrier_freq  ODPairID_freq  \n",
       "0      0.116826       0.000132  \n",
       "1      0.307651       0.000132  \n",
       "2      0.116826       0.000132  \n",
       "3      0.116826       0.000132  \n",
       "4      0.307651       0.000132  \n",
       "\n",
       "[5 rows x 26 columns]"
      ]
     },
     "execution_count": 14,
     "metadata": {},
     "output_type": "execute_result"
    }
   ],
   "source": [
    "path_file = path + '/Airline_Market_Fare_Prediction_Data/MarketFarePredictionData.csv'\n",
    "df = pd.read_csv(path_file)\n",
    "df.head()"
   ]
  },
  {
   "cell_type": "code",
   "execution_count": 21,
   "id": "c1ffaf29-f508-4171-ac26-76b89199935e",
   "metadata": {},
   "outputs": [
    {
     "name": "stdout",
     "output_type": "stream",
     "text": [
      "Variables names: ['MktCoupons', 'OriginCityMarketID', 'DestCityMarketID', 'OriginAirportID', 'DestAirportID', 'Carrier', 'NonStopMiles', 'RoundTrip', 'ODPairID', 'Pax', 'CarrierPax', 'Average_Fare', 'Market_share', 'Market_HHI', 'LCC_Comp', 'Multi_Airport', 'Circuity', 'Slot', 'Non_Stop', 'MktMilesFlown', 'OriginCityMarketID_freq', 'DestCityMarketID_freq', 'OriginAirportID_freq', 'DestAirportID_freq', 'Carrier_freq', 'ODPairID_freq']\n"
     ]
    }
   ],
   "source": [
    "print('Variables names:', list(df.columns))"
   ]
  }
 ],
 "metadata": {
  "kernelspec": {
   "display_name": "Python 3 (ipykernel)",
   "language": "python",
   "name": "python3"
  },
  "language_info": {
   "codemirror_mode": {
    "name": "ipython",
    "version": 3
   },
   "file_extension": ".py",
   "mimetype": "text/x-python",
   "name": "python",
   "nbconvert_exporter": "python",
   "pygments_lexer": "ipython3",
   "version": "3.10.16"
  }
 },
 "nbformat": 4,
 "nbformat_minor": 5
}
